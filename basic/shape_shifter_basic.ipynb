{
  "nbformat": 4,
  "nbformat_minor": 0,
  "metadata": {
    "colab": {
      "provenance": [],
      "collapsed_sections": [
        "WV5fR3sotHXp"
      ]
    },
    "kernelspec": {
      "name": "python3",
      "display_name": "Python 3"
    },
    "language_info": {
      "name": "python"
    }
  },
  "cells": [
    {
      "cell_type": "markdown",
      "source": [
        "Copyright 2024 Google LLC\n",
        "\n",
        "Licensed under the Apache License, Version 2.0 (the \"License\");\n",
        "you may not use this file except in compliance with the License.\n",
        "You may obtain a copy of the License at\n",
        "\n",
        "    https://www.apache.org/licenses/LICENSE-2.0\n",
        "\n",
        "Unless required by applicable law or agreed to in writing, software\n",
        "distributed under the License is distributed on an \"AS IS\" BASIS,\n",
        "WITHOUT WARRANTIES OR CONDITIONS OF ANY KIND, either express or implied.\n",
        "See the License for the specific language governing permissions and\n",
        "limitations under the License.\n",
        "\n"
      ],
      "metadata": {
        "id": "mbQ34wkyzuMv"
      }
    },
    {
      "cell_type": "markdown",
      "source": [
        "# Shape Shifter\n",
        "\n",
        "This project provides a framework for analyzing video content using Google's Gemini Flash Model, designed to be scalable and user-friendly for marketing teams. It also incorporates a dashboard that helps evaluate the prompts against manually tagged (requires user tagging) videos.\n",
        "\n",
        "Please visit the [GitHub Repository](https://github.com/google-marketing-solutions/abcds-detector/tree/paul_changes/fava) for all documentation."
      ],
      "metadata": {
        "id": "WV5fR3sotHXp"
      }
    },
    {
      "cell_type": "markdown",
      "source": [
        "# Install BQFlow Dependency"
      ],
      "metadata": {
        "id": "5xxx_CTpkDzr"
      }
    },
    {
      "cell_type": "code",
      "source": [
        "!git clone https://github.com/google/bqflow\n",
        "!python3 -m pip install -r bqflow/requirements.txt\n",
        "%env PYTHONPATH=$env/python:/content/bqflow"
      ],
      "metadata": {
        "id": "xwIWWguIkG7r"
      },
      "execution_count": null,
      "outputs": []
    },
    {
      "cell_type": "markdown",
      "source": [
        "* If you are using a service credential upload the JSON to **/content/service.json** using the folder icon on the left.\n",
        "* SKIP THE NEXT STEP if you are using a service credential.\n",
        "* To get a user credential run the following code which will tell you how to get a **client.json**."
      ],
      "metadata": {
        "id": "rAm-xUeAkwmh"
      }
    },
    {
      "cell_type": "code",
      "source": [
        "!python bqflow/auth.py -h"
      ],
      "metadata": {
        "id": "aHjoyXhzki4x"
      },
      "execution_count": null,
      "outputs": []
    },
    {
      "cell_type": "markdown",
      "source": [
        "* SKIP THE NEXT STEP if you are using a service credential.\n",
        "* Once you have the **client.json** upload it using the **folder icon** on the left to **/content/client.json**.\n",
        "* A **user.json** will be generated for you."
      ],
      "metadata": {
        "id": "qNbJLCS0lPsN"
      }
    },
    {
      "cell_type": "code",
      "source": [
        "!python bqflow/auth.py -c /content/client.json -u /content/user.json -b"
      ],
      "metadata": {
        "id": "_LL5dx94knUG"
      },
      "execution_count": null,
      "outputs": []
    },
    {
      "cell_type": "markdown",
      "source": [
        "# Install Shape Shifter Code"
      ],
      "metadata": {
        "id": "m-VVH3V36y8y"
      }
    },
    {
      "cell_type": "code",
      "source": [
        "!git clone https://github.com/pkenjora/shape_shifter\n",
        "!python3 -m pip install -r shape_shifter/requirements.txt"
      ],
      "metadata": {
        "id": "SazIyKBGtwID"
      },
      "execution_count": null,
      "outputs": []
    },
    {
      "cell_type": "markdown",
      "source": [
        "# Run Shape Shifter Text Ads Geneator\n",
        "Open the **/content/shape_shifter/basic/text.json** file using the folder icon on the left. Edit the prompts, products, and targeting. Closing the file saves it. Then run the generator below."
      ],
      "metadata": {
        "id": "pg9ZT-CERKzg"
      }
    },
    {
      "cell_type": "code",
      "source": [
        "!cd /content/shape_shifter/basic/\n",
        "!python text.py text.json -u /content/user.json -p gtech-kenjora"
      ],
      "metadata": {
        "collapsed": true,
        "id": "0-92Uo3Ova_g"
      },
      "execution_count": null,
      "outputs": []
    },
    {
      "cell_type": "markdown",
      "source": [
        "Once the ads have generated, the file **/content/shape_shifter/basic/generated/text_ads.json** will contain all the ad variants. Review, edit and run the genenerator again if need be.  Then download them by running the code below."
      ],
      "metadata": {
        "id": "7ihPqqvTz0si"
      }
    },
    {
      "cell_type": "code",
      "source": [
        "from google.colab import files\n",
        "files.download('/content/shape_shifter/basic/generated/text_ads.json')"
      ],
      "metadata": {
        "id": "bCjfsHs868EK"
      },
      "execution_count": null,
      "outputs": []
    },
    {
      "cell_type": "markdown",
      "source": [
        "# Run Shape Shifter Image Ads Geneator\n",
        "Open the **/content/shape_shifter/basic/images.json** file using the folder icon on the left. Edit the prompts, products, and targeting. Closing the file saves it. Then run the generator below."
      ],
      "metadata": {
        "id": "K911utXgwkzX"
      }
    },
    {
      "cell_type": "code",
      "source": [
        "!cd /content/shape_shifter/basic/\n",
        "!python images.py images.json -u /content/user.json -p gtech-kenjora"
      ],
      "metadata": {
        "collapsed": true,
        "id": "Az_augI4wtQl"
      },
      "execution_count": null,
      "outputs": []
    },
    {
      "cell_type": "markdown",
      "source": [
        "Once the ads have generated, the file **/content/shape_shifter/basic/generated/image_ads.json** will contain all the image ad variants.\n",
        "\n",
        "The folder **/content/shape_shifter/basic/generated/** will contain all the images. Removing an image and running the generator again will recreate it. When ready run the code below to download all the images."
      ],
      "metadata": {
        "id": "xfRmvIcc1tVT"
      }
    },
    {
      "cell_type": "code",
      "source": [
        "import os\n",
        "from google.colab import files\n",
        "\n",
        "image_dir = '/content/shape_shifter/basic/generated/'\n",
        "\n",
        "files.download('/content/shape_shifter/basic/generated/image_ads.json')\n",
        "\n",
        "for image_file in os.listdir(image_dir):\n",
        "  if image_file.lower().endswith('.jpg'):\n",
        "    image_path = os.path.join(image_dir, image_file)\n",
        "    files.download(image_path)"
      ],
      "metadata": {
        "id": "xBlQMe0szF9T"
      },
      "execution_count": null,
      "outputs": []
    },
    {
      "cell_type": "markdown",
      "source": [
        "Or run the code below to show all the images."
      ],
      "metadata": {
        "id": "VCkWgpP92h_q"
      }
    },
    {
      "cell_type": "code",
      "source": [
        "import os\n",
        "from IPython.display import Image, display\n",
        "\n",
        "image_dir = '/content/shape_shifter/basic/generated/'\n",
        "\n",
        "for image_file in os.listdir(image_dir):\n",
        "  if image_file.lower().endswith('.jpg'):\n",
        "    image_path = os.path.join(image_dir, image_file)\n",
        "    display(Image(image_path))"
      ],
      "metadata": {
        "id": "RrwDxhMD2sC4"
      },
      "execution_count": null,
      "outputs": []
    }
  ]
}