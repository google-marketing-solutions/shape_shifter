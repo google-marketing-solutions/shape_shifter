{
  "nbformat": 4,
  "nbformat_minor": 0,
  "metadata": {
    "colab": {
      "provenance": [],
      "collapsed_sections": [
        "WV5fR3sotHXp"
      ]
    },
    "kernelspec": {
      "name": "python3",
      "display_name": "Python 3"
    },
    "language_info": {
      "name": "python"
    }
  },
  "cells": [
    {
      "cell_type": "markdown",
      "source": [
        "Copyright 2025 Google LLC\n",
        "\n",
        "Licensed under the Apache License, Version 2.0 (the \"License\");\n",
        "you may not use this file except in compliance with the License.\n",
        "You may obtain a copy of the License at\n",
        "\n",
        "    https://www.apache.org/licenses/LICENSE-2.0\n",
        "\n",
        "Unless required by applicable law or agreed to in writing, software\n",
        "distributed under the License is distributed on an \"AS IS\" BASIS,\n",
        "WITHOUT WARRANTIES OR CONDITIONS OF ANY KIND, either express or implied.\n",
        "See the License for the specific language governing permissions and\n",
        "limitations under the License.\n",
        "\n"
      ],
      "metadata": {
        "id": "mbQ34wkyzuMv"
      }
    },
    {
      "cell_type": "markdown",
      "source": [
        "# Shape Shifter\n",
        "\n",
        "This project provides a framework for generating text and image ads using Google's Gemini Model, designed to be scalable and user-friendly for marketing teams. Please visit the [GitHub Repository](https://github.com/pkenjora/shape_shifter/tree/main/basic) for all documentation."
      ],
      "metadata": {
        "id": "WV5fR3sotHXp"
      }
    },
    {
      "cell_type": "markdown",
      "source": [
        "# Install BQFlow Dependency\n",
        "This provides a [Gemini Library](https://github.com/google-marketing-solutions/bqflow/blob/main/bqflow/util/vertexai_api.py) that help format the prompts and manipulate the images."
      ],
      "metadata": {
        "id": "5xxx_CTpkDzr"
      }
    },
    {
      "cell_type": "code",
      "source": [
        "!git clone https://github.com/google/bqflow\n",
        "!python3 -m pip install -r bqflow/requirements.txt\n",
        "%env PYTHONPATH=$env/python:/content/bqflow"
      ],
      "metadata": {
        "id": "xwIWWguIkG7r"
      },
      "execution_count": null,
      "outputs": []
    },
    {
      "cell_type": "markdown",
      "source": [
        "* If you are using a service credential upload the JSON to **/content/service.json** using the folder icon on the left.\n",
        "* SKIP THE NEXT STEP if you are using a service credential.\n",
        "* To get a user credential run the following code which will tell you how to get a **client.json**."
      ],
      "metadata": {
        "id": "rAm-xUeAkwmh"
      }
    },
    {
      "cell_type": "code",
      "source": [
        "!python bqflow/auth.py -h"
      ],
      "metadata": {
        "id": "aHjoyXhzki4x"
      },
      "execution_count": null,
      "outputs": []
    },
    {
      "cell_type": "markdown",
      "source": [
        "* SKIP THE NEXT STEP if you are using a service credential.\n",
        "* Once you have the **client.json** upload it using the **folder icon** on the left to **/content/client.json**.\n",
        "* A **user.json** will be generated for you using the following script."
      ],
      "metadata": {
        "id": "qNbJLCS0lPsN"
      }
    },
    {
      "cell_type": "code",
      "source": [
        "!python bqflow/auth.py -c /content/client.json -u /content/user.json -b"
      ],
      "metadata": {
        "id": "_LL5dx94knUG"
      },
      "execution_count": null,
      "outputs": []
    },
    {
      "cell_type": "markdown",
      "source": [
        "# Install Shape Shifter Code\n",
        "This provides the prompt manipulation logic for both [text](https://github.com/pkenjora/shape_shifter/blob/main/basic/text.py) and [image](https://github.com/pkenjora/shape_shifter/blob/main/basic/images.py) generation.  You can modify the **/content/shape_shifter/** code to change the logic.  However, 90% of the modifications can be done in the JSON prompt files."
      ],
      "metadata": {
        "id": "m-VVH3V36y8y"
      }
    },
    {
      "cell_type": "code",
      "source": [
        "!git clone https://github.com/pkenjora/shape_shifter\n",
        "!python3 -m pip install -r shape_shifter/requirements.txt"
      ],
      "metadata": {
        "id": "SazIyKBGtwID"
      },
      "execution_count": null,
      "outputs": []
    },
    {
      "cell_type": "markdown",
      "source": [
        "And set your GCP project. Edit this to be whatever Google Cloud Project you use."
      ],
      "metadata": {
        "id": "oVs_N9L7Vd8t"
      }
    },
    {
      "cell_type": "code",
      "source": [
        "%env GCP_PROJECT='gtech-kenjora'"
      ],
      "metadata": {
        "id": "RE2qT1GPVlrq"
      },
      "execution_count": null,
      "outputs": []
    },
    {
      "cell_type": "markdown",
      "source": [
        "# Run Shape Shifter Text Ads Geneator\n",
        "1. Open the **/content/shape_shifter/basic/text.json** file using the folder icon on the left.\n",
        "2. Edit the prompts, products, and targeting. Closing the file saves it.\n",
        "3. Then run the generator below."
      ],
      "metadata": {
        "id": "pg9ZT-CERKzg"
      }
    },
    {
      "cell_type": "code",
      "source": [
        "%cd /content/shape_shifter/basic/\n",
        "!python text.py --prompt text.json -u /content/user.json -p $GCP_PROJECT"
      ],
      "metadata": {
        "collapsed": true,
        "id": "0-92Uo3Ova_g"
      },
      "execution_count": null,
      "outputs": []
    },
    {
      "cell_type": "markdown",
      "source": [
        "4. Once the ads have generated, the file **/content/shape_shifter/basic/generated/text_ads.json** will contain all the ad variants.\n",
        "5. Review, edit and run the genenerator again if need be.\n",
        "6. Then download them by running the code below."
      ],
      "metadata": {
        "id": "7ihPqqvTz0si"
      }
    },
    {
      "cell_type": "code",
      "source": [
        "from google.colab import files\n",
        "\n",
        "!python text.py --export\n",
        "\n",
        "files.download('/content/shape_shifter/basic/generated/text_ads.json')\n",
        "files.download('/content/shape_shifter/basic/generated/text_ads.csv')"
      ],
      "metadata": {
        "id": "bCjfsHs868EK"
      },
      "execution_count": null,
      "outputs": []
    },
    {
      "cell_type": "markdown",
      "source": [
        "# Run Shape Shifter Image Ads Geneator\n",
        "\n",
        "1. Open the **/content/shape_shifter/basic/images.json** file using the folder icon on the left.\n",
        "2. Edit the prompts, products, and targeting. Closing the file saves it.\n",
        "3. Then run the generator script below."
      ],
      "metadata": {
        "id": "K911utXgwkzX"
      }
    },
    {
      "cell_type": "code",
      "source": [
        "!cd /content/shape_shifter/basic/\n",
        "!python images.py --prompt images.json -u /content/user.json -p  $GCP_PROJECT"
      ],
      "metadata": {
        "collapsed": true,
        "id": "Az_augI4wtQl"
      },
      "execution_count": null,
      "outputs": []
    },
    {
      "cell_type": "markdown",
      "source": [
        "4. Once the ads have generated, the file **/content/shape_shifter/basic/generated/image_ads.json** will contain all the image ad variants.\n",
        "5. The folder **/content/shape_shifter/basic/generated/** will contain all the images.\n",
        "6. Removing any unwanted images and run the generator again to recreate it. You may have to change the seed.\n",
        "7. When ready run the code below to download the configuration file and all the images to your computer."
      ],
      "metadata": {
        "id": "xfRmvIcc1tVT"
      }
    },
    {
      "cell_type": "code",
      "source": [
        "import os\n",
        "from google.colab import files\n",
        "\n",
        "!python text.py --export\n",
        "\n",
        "files.download('/content/shape_shifter/basic/generated/image_ads.json')\n",
        "files.download('/content/shape_shifter/basic/generated/image_ads.csv')\n",
        "\n",
        "image_dir = '/content/shape_shifter/basic/generated/'\n",
        "\n",
        "for image_file in os.listdir(image_dir):\n",
        "  if image_file.lower().endswith('.jpg'):\n",
        "    image_path = os.path.join(image_dir, image_file)\n",
        "    files.download(image_path)"
      ],
      "metadata": {
        "id": "xBlQMe0szF9T"
      },
      "execution_count": null,
      "outputs": []
    },
    {
      "cell_type": "markdown",
      "source": [
        "8. Or run the code below to show all the images."
      ],
      "metadata": {
        "id": "VCkWgpP92h_q"
      }
    },
    {
      "cell_type": "code",
      "source": [
        "import os\n",
        "from IPython.display import Image, display\n",
        "\n",
        "image_dir = '/content/shape_shifter/basic/generated/'\n",
        "\n",
        "for image_file in os.listdir(image_dir):\n",
        "  if image_file.lower().endswith('.jpg'):\n",
        "    image_path = os.path.join(image_dir, image_file)\n",
        "    display(Image(image_path))"
      ],
      "metadata": {
        "id": "RrwDxhMD2sC4"
      },
      "execution_count": null,
      "outputs": []
    }
  ]
}
